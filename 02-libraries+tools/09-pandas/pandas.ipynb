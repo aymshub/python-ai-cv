{
 "cells": [
  {
   "cell_type": "markdown",
   "metadata": {},
   "source": [
    "# Examples and Tasks with Pandas\n",
    "* load data from\n",
    "    * CSV\n",
    "    * Excel\n",
    "    * Timescale\n",
    "* interaction with data bases\n",
    "* performance considerations"
   ]
  }
 ],
 "metadata": {
  "language_info": {
   "name": "python"
  }
 },
 "nbformat": 4,
 "nbformat_minor": 2
}
