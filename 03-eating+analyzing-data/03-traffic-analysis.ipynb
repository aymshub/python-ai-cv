{
 "cells": [
  {
   "cell_type": "code",
   "execution_count": null,
   "metadata": {},
   "outputs": [],
   "source": [
    "import pandas as pd\n",
    "import matplotlib.pyplot as plt\n",
    "\n",
    "# Read the CSV file\n",
    "df = pd.read_csv('2024-04-30T15-00_20-00_MononElmStreetNB.csv', parse_dates=['capture_ts'], index_col='capture_ts', date_format='ISO8601').drop(columns=['detection_id'])"
   ]
  },
  {
   "cell_type": "code",
   "execution_count": null,
   "metadata": {},
   "outputs": [],
   "source": [
    "# Use DataFrame.describe() to get a summary of the data (these do not make a ton of sense for this kind of data)\n",
    "df.describe()"
   ]
  },
  {
   "cell_type": "markdown",
   "metadata": {},
   "source": [
    "### Visualize traffic over time"
   ]
  },
  {
   "cell_type": "code",
   "execution_count": null,
   "metadata": {},
   "outputs": [],
   "source": [
    "# Plot object count over time (count unique object_id per minute)\n",
    "object_count = df['object_id'].resample('1min').nunique()\n",
    "object_count.plot()\n"
   ]
  },
  {
   "cell_type": "code",
   "execution_count": null,
   "metadata": {},
   "outputs": [],
   "source": [
    "# Smooth the object count data by applying a rolling mean (e.g. windows size of 10)\n",
    "object_count.rolling(window=10).mean().plot()"
   ]
  },
  {
   "cell_type": "code",
   "execution_count": null,
   "metadata": {},
   "outputs": [],
   "source": [
    "# Plot the same as above, but differentiate between the different class_ids (use different colors and correct labels; 0: person, 1: bicycle, 2: car)\n",
    "CLASSNAME_BY_ID = {0: 'person', 1: 'bicycle', 2: 'car'}\n",
    "\n",
    "for class_id in df['class_id'].unique():\n",
    "    class_count = df[df['class_id'] == class_id]['object_id'].resample('1min').nunique()  \n",
    "    class_count.rolling(window=10).mean().plot(label=CLASSNAME_BY_ID[class_id])\n",
    "plt.ylabel('avg object count per minute')\n",
    "plt.legend()\n"
   ]
  },
  {
   "cell_type": "markdown",
   "metadata": {},
   "source": [
    "### Plot object centers"
   ]
  },
  {
   "cell_type": "code",
   "execution_count": null,
   "metadata": {},
   "outputs": [],
   "source": [
    "CLASSNAME_BY_ID = {0: 'person', 1: 'bicycle', 2: 'car'}\n",
    "\n",
    "# Calculate the center of each bounding box and add two new columns to the DataFrame: 'center_x' and 'center_y'\n",
    "df['center_x'] = (df['min_x'] + df['max_x']) / 2\n",
    "df['center_y'] = (df['min_y'] + df['max_y']) / 2\n",
    "\n",
    "# Plot the center of each bounding box over time (use different colors and correct labels)\n",
    "plt.figure(figsize=(16, 9))\n",
    "for class_id in df['class_id'].unique():\n",
    "    class_data = df[df['class_id'] == class_id]\n",
    "    plt.scatter(class_data['center_x'], class_data['center_y'], label=CLASSNAME_BY_ID[class_id], s=2)\n",
    "plt.xlabel('center_x')\n",
    "plt.ylabel('center_y')\n",
    "plt.legend(loc='upper right')\n",
    "\n",
    "# Make this resemble the original camera image by setting the origin to the top left and scaling the axis to a 16:9 aspect ratio\n",
    "plt.gca().invert_yaxis()\n",
    "plt.gca().set_aspect(0.5625, adjustable='box')\n"
   ]
  },
  {
   "cell_type": "code",
   "execution_count": null,
   "metadata": {},
   "outputs": [],
   "source": [
    "# Plot the same as above, but use bounding box size as a color gradient and plot each object class into its own subplot (with its own gradient scale and colorbar)\n",
    "for class_id in df['class_id'].unique():\n",
    "    class_data = df[df['class_id'] == class_id]\n",
    "    plt.figure(figsize=(16, 9))\n",
    "    plt.scatter(class_data['center_x'], class_data['center_y'], c=(class_data['max_x'] - class_data['min_x']) * (class_data['max_y'] - class_data['min_y']), label=CLASSNAME_BY_ID[class_id], s=2)\n",
    "    plt.colorbar()\n",
    "    plt.xlabel('center_x')\n",
    "    plt.ylabel('center_y')\n",
    "    plt.gca().invert_yaxis()\n",
    "    plt.gca().set_aspect(0.5625, adjustable='box')\n",
    "    plt.title(CLASSNAME_BY_ID[class_id])\n",
    "    plt.show()\n"
   ]
  }
 ],
 "metadata": {
  "kernelspec": {
   "display_name": ".venv",
   "language": "python",
   "name": "python3"
  },
  "language_info": {
   "codemirror_mode": {
    "name": "ipython",
    "version": 3
   },
   "file_extension": ".py",
   "mimetype": "text/x-python",
   "name": "python",
   "nbconvert_exporter": "python",
   "pygments_lexer": "ipython3",
   "version": "3.11.6"
  }
 },
 "nbformat": 4,
 "nbformat_minor": 2
}
