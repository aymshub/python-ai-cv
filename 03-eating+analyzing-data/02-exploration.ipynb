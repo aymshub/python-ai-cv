{
 "cells": [
  {
   "cell_type": "code",
   "execution_count": null,
   "metadata": {},
   "outputs": [],
   "source": [
    "import pandas as pd\n",
    "import matplotlib.pyplot as plt\n",
    "\n",
    "# Read the CSV file\n",
    "df = pd.read_csv('2024-04-30T15-00_20-00_MononElmStreetNB.csv', parse_dates=['capture_ts'], index_col='capture_ts', date_format='ISO8601').drop(columns=['detection_id'])"
   ]
  },
  {
   "cell_type": "markdown",
   "metadata": {},
   "source": [
    "### Find out, how many different objects have been tracked and plot the distribution of datapoint count per object"
   ]
  },
  {
   "cell_type": "code",
   "execution_count": null,
   "metadata": {},
   "outputs": [],
   "source": [
    "# Show how many different object ids are in the data\n",
    "print(f'There are {df[\"object_id\"].nunique()} unique object_ids in the data')\n",
    "\n",
    "# Show a histogram of the number of data points per object id\n",
    "object_hist = df['object_id'].value_counts()\n",
    "\n",
    "# Use the describe method to get some statistics on the object_hist data\n",
    "print(object_hist.describe())\n",
    "\n",
    "# Plot object_hist as a histogram\n",
    "object_hist.plot.hist(bins=200)\n"
   ]
  },
  {
   "cell_type": "code",
   "execution_count": null,
   "metadata": {},
   "outputs": [],
   "source": [
    "# Only keep the 99 percentiles of the histogram data\n",
    "object_hist_95 = object_hist[object_hist < object_hist.quantile(0.95)]\n",
    "\n",
    "object_hist_95.plot.hist(bins=200)"
   ]
  },
  {
   "cell_type": "code",
   "execution_count": null,
   "metadata": {},
   "outputs": [],
   "source": [
    "# Plot the 95 percentile again with a log scale on the y-axis\n",
    "object_hist_95.plot.hist(bins=200, logy=True)"
   ]
  },
  {
   "cell_type": "code",
   "execution_count": null,
   "metadata": {},
   "outputs": [],
   "source": [
    "# Do the same plot as above but with matplotlib\n",
    "plt.hist(object_hist_95, bins=200, log=True)\n",
    "plt.show()"
   ]
  },
  {
   "cell_type": "markdown",
   "metadata": {},
   "source": [
    "### Visualize traffic over time"
   ]
  },
  {
   "cell_type": "code",
   "execution_count": null,
   "metadata": {},
   "outputs": [],
   "source": [
    "# Plot object count over time (count unique object_id per minute)\n",
    "object_count = df['object_id'].resample('1min').nunique()\n",
    "object_count.plot()\n"
   ]
  },
  {
   "cell_type": "code",
   "execution_count": null,
   "metadata": {},
   "outputs": [],
   "source": [
    "# Smooth the object count data by applying a rolling mean (e.g. windows size of 10)\n",
    "object_count.rolling(window=10).mean().plot()"
   ]
  },
  {
   "cell_type": "code",
   "execution_count": null,
   "metadata": {},
   "outputs": [],
   "source": [
    "# Plot the same as above, but differentiate between the different class_ids (use different colors and correct labels; 0: person, 1: bicycle, 2: car)\n",
    "CLASSNAME_BY_ID = {0: 'person', 1: 'bicycle', 2: 'car'}\n",
    "\n",
    "for class_id in df['class_id'].unique():\n",
    "    class_count = df[df['class_id'] == class_id]['object_id'].resample('1min').nunique()  \n",
    "    class_count.rolling(window=10).mean().plot(label=CLASSNAME_BY_ID[class_id])\n",
    "plt.ylabel('avg object count per minute')\n",
    "plt.legend()\n"
   ]
  }
 ],
 "metadata": {
  "kernelspec": {
   "display_name": ".venv",
   "language": "python",
   "name": "python3"
  },
  "language_info": {
   "codemirror_mode": {
    "name": "ipython",
    "version": 3
   },
   "file_extension": ".py",
   "mimetype": "text/x-python",
   "name": "python",
   "nbconvert_exporter": "python",
   "pygments_lexer": "ipython3",
   "version": "3.11.6"
  }
 },
 "nbformat": 4,
 "nbformat_minor": 2
}
