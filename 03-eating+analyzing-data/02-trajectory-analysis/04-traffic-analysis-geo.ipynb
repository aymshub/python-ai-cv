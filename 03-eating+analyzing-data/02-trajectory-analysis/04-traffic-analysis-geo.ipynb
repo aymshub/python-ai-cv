{
 "cells": [
  {
   "cell_type": "code",
   "execution_count": null,
   "metadata": {},
   "outputs": [
    {
     "ename": "",
     "evalue": "",
     "output_type": "error",
     "traceback": [
      "\u001b[1;31mRunning cells with 'Python 3.11.6' requires the ipykernel package.\n",
      "\u001b[1;31mRun the following command to install 'ipykernel' into the Python environment. \n",
      "\u001b[1;31mCommand: '/bin/python3 -m pip install ipykernel -U --user --force-reinstall'"
     ]
    }
   ],
   "source": [
    "import pandas as pd\n",
    "import matplotlib.pyplot as plt\n",
    "\n",
    "# Read the CSV file\n",
    "df = pd.read_csv('2024-04-30T15-00_20-00_RangelineSMedicalDr.csv', parse_dates=['capture_ts'], index_col='capture_ts', date_format='ISO8601').drop(columns=['detection_id'])"
   ]
  },
  {
   "cell_type": "markdown",
   "metadata": {},
   "source": [
    "### First, reuse the code from the previous exercise to plot the object centers on the camera image"
   ]
  },
  {
   "cell_type": "code",
   "execution_count": null,
   "metadata": {},
   "outputs": [],
   "source": [
    "CLASSNAME_BY_ID = {0: 'person', 1: 'bicycle', 2: 'car'}\n",
    "\n",
    "# Calculate the center of each bounding box and add two new columns to the DataFrame: 'center_x' and 'center_y'\n",
    "df['center_x'] = (df['min_x'] + df['max_x']) / 2\n",
    "df['center_y'] = (df['min_y'] + df['max_y']) / 2\n",
    "\n",
    "# Plot the center of each bounding box over time (use different colors and correct labels)\n",
    "plt.figure(figsize=(16, 9))\n",
    "for class_id in df['class_id'].unique():\n",
    "    class_data = df[df['class_id'] == class_id]\n",
    "    plt.scatter(class_data['center_x'], class_data['center_y'], label=CLASSNAME_BY_ID[class_id], s=.01)\n",
    "plt.xlabel('center_x')\n",
    "plt.ylabel('center_y')\n",
    "plt.legend(loc='upper right')\n",
    "\n",
    "# Make this resemble the original camera image by setting the origin to the top left and scaling the axis to a 16:9 aspect ratio\n",
    "plt.gca().invert_yaxis()\n",
    "plt.gca().set_aspect(0.5625, adjustable='box')"
   ]
  },
  {
   "cell_type": "markdown",
   "metadata": {},
   "source": [
    "### Now, use the geo coordinates from the data to draw the points"
   ]
  },
  {
   "cell_type": "code",
   "execution_count": null,
   "metadata": {},
   "outputs": [],
   "source": [
    "# Draw the object centers by geo location (latitude and longitude)\n",
    "# To make it fit a bit nicer, you can set the upper and lower axis limits to the 1st and 99th percentile of the data\n",
    "plt.figure(figsize=(10, 15))\n",
    "plt.scatter(df['longitude'], df['latitude'], s=.01)\n",
    "plt.xlabel('longitude')\n",
    "plt.ylabel('latitude')\n",
    "plt.xlim(df['longitude'].quantile(.01), df['longitude'].quantile(.99))\n",
    "plt.ylim(df['latitude'].quantile(.01), df['latitude'].quantile(.99))\n",
    "plt.gca().set_aspect(1, adjustable='box')\n"
   ]
  },
  {
   "cell_type": "markdown",
   "metadata": {},
   "source": [
    "### Calculate speeds"
   ]
  },
  {
   "cell_type": "code",
   "execution_count": null,
   "metadata": {},
   "outputs": [],
   "source": [
    "# You can assume that one degree of latitude is approximately 111034.132m and one degree of longitude is approximately 85424.462m at 39.9754° N (see calculator http://www.csgnetwork.com/degreelenllavcalc.html)\n",
    "# With the difference in time and location between any two consecutive detections of the same object, you can calculate the object speeds!\n",
    "\n",
    "# Sort by object_id and capture_ts\n",
    "df_sorted = df.sort_values(by=['object_id', 'capture_ts'])\n",
    "\n",
    "# Calculate the time difference between consecutive detections of the same object (shift the capture_ts column by one and subtract it from the original)\n",
    "df_sorted['time_diff'] = df_sorted.index.diff()\n",
    "\n",
    "# Add 'valid_diff' column to the DataFrame to indicate if the time difference is valid (i.e. the object_id is the same as the previous row)\n",
    "df_sorted['valid_diff'] = df_sorted['object_id'].eq(df_sorted['object_id'].shift())\n",
    "\n",
    "# Calculate the distance between consecutive detections of the same object (use euclidean distance)\n",
    "# Calculate the speed by dividing the distance by the time difference\n",
    "# Add 'speed' column to the DataFrame\n",
    "df_sorted['distance'] = ((df_sorted['longitude'].diff() * 85424.462)**2 + (df_sorted['latitude'].diff() * 111034.132)**2 )**.5\n",
    "\n",
    "# Remove the rows where 'valid_diff' is False\n",
    "df_sorted = df_sorted[df_sorted['valid_diff']]\n",
    "\n",
    "# Calculate the speed in km/h and add it to the DataFrame\n",
    "df_sorted['speed'] = (df_sorted['distance'] / df_sorted['time_diff'].dt.total_seconds()) * 3.6"
   ]
  },
  {
   "cell_type": "code",
   "execution_count": null,
   "metadata": {},
   "outputs": [],
   "source": [
    "# Plot a histogram of the object speeds\n",
    "# Remove the outliers by setting the upper limit to the 99th percentile of the data\n",
    "df_sorted[df_sorted['speed'] < df_sorted['speed'].quantile(.99)]['speed'].plot.hist(bins=100)\n",
    "\n"
   ]
  },
  {
   "cell_type": "markdown",
   "metadata": {},
   "source": [
    "### Plot object locations again with speed encoded as color"
   ]
  },
  {
   "cell_type": "code",
   "execution_count": null,
   "metadata": {},
   "outputs": [],
   "source": [
    "# Draw the object centers by geo location (latitude and longitude)\n",
    "# To make it fit a bit nicer, you can set the upper and lower axis limits to the 1st and 99th percentile of the data\n",
    "df_speeds = df_sorted[df_sorted['speed'] < df_sorted['speed'].quantile(.99)]\n",
    "plt.figure(figsize=(15, 15))\n",
    "plt.scatter(df_speeds['longitude'], df_speeds['latitude'], c=df_speeds['speed'], s=.01)\n",
    "plt.xlabel('longitude')\n",
    "plt.ylabel('latitude')\n",
    "plt.xlim(df_speeds['longitude'].quantile(.01), df_speeds['longitude'].quantile(.99))\n",
    "plt.ylim(df_speeds['latitude'].quantile(.01), df_speeds['latitude'].quantile(.99))\n",
    "plt.colorbar(location='bottom', label='speed (km/h)')\n",
    "plt.gca().set_aspect(1, adjustable='box')"
   ]
  }
 ],
 "metadata": {
  "kernelspec": {
   "display_name": ".venv",
   "language": "python",
   "name": "python3"
  },
  "language_info": {
   "codemirror_mode": {
    "name": "ipython",
    "version": 3
   },
   "file_extension": ".py",
   "mimetype": "text/x-python",
   "name": "python",
   "nbconvert_exporter": "python",
   "pygments_lexer": "ipython3",
   "version": "3.11.6"
  }
 },
 "nbformat": 4,
 "nbformat_minor": 2
}
