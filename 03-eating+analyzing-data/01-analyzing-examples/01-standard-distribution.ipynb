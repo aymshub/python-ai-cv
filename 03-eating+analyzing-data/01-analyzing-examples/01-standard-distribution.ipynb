{
 "cells": [
  {
   "cell_type": "markdown",
   "metadata": {},
   "source": [
    "# Examples for standard distributions\n",
    "* individual measurement results show nothing\n",
    "* if in doubt make more measurements until you see a gaussian distribution\n",
    "* Examples"
   ]
  }
 ],
 "metadata": {
  "language_info": {
   "name": "python"
  }
 },
 "nbformat": 4,
 "nbformat_minor": 2
}
