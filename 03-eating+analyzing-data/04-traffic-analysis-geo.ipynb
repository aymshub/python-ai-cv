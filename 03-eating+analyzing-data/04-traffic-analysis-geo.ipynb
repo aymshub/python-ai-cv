{
 "cells": [
  {
   "cell_type": "code",
   "execution_count": null,
   "metadata": {},
   "outputs": [],
   "source": [
    "import pandas as pd\n",
    "import matplotlib.pyplot as plt\n",
    "\n",
    "# Read the CSV file\n",
    "df = pd.read_csv('2024-04-30T15-00_20-00_RangelineSMedicalDr.csv', parse_dates=['capture_ts'], index_col='capture_ts', date_format='ISO8601').drop(columns=['detection_id'])"
   ]
  },
  {
   "cell_type": "markdown",
   "metadata": {},
   "source": [
    "### First, reuse the code from the previous exercise to plot the object centers on the camera image"
   ]
  },
  {
   "cell_type": "code",
   "execution_count": null,
   "metadata": {},
   "outputs": [],
   "source": [
    "CLASSNAME_BY_ID = {0: 'person', 1: 'bicycle', 2: 'car'}\n",
    "\n",
    "# Calculate the center of each bounding box and add two new columns to the DataFrame: 'center_x' and 'center_y'\n",
    "df['center_x'] = (df['min_x'] + df['max_x']) / 2\n",
    "df['center_y'] = (df['min_y'] + df['max_y']) / 2\n",
    "\n",
    "# Plot the center of each bounding box over time (use different colors and correct labels)\n",
    "plt.figure(figsize=(16, 9))\n",
    "for class_id in df['class_id'].unique():\n",
    "    class_data = df[df['class_id'] == class_id]\n",
    "    plt.scatter(class_data['center_x'], class_data['center_y'], label=CLASSNAME_BY_ID[class_id], s=.01)\n",
    "plt.xlabel('center_x')\n",
    "plt.ylabel('center_y')\n",
    "plt.legend(loc='upper right')\n",
    "\n",
    "# Make this resemble the original camera image by setting the origin to the top left and scaling the axis to a 16:9 aspect ratio\n",
    "plt.gca().invert_yaxis()\n",
    "plt.gca().set_aspect(0.5625, adjustable='box')"
   ]
  },
  {
   "cell_type": "markdown",
   "metadata": {},
   "source": [
    "### Now, use the geo coordinates from the data to draw the points"
   ]
  },
  {
   "cell_type": "code",
   "execution_count": null,
   "metadata": {},
   "outputs": [],
   "source": [
    "# Draw the object centers by geo location (latitude and longitude)\n",
    "# To make it fit a bit nicer, you can set the upper and lower axis limits to the 1st and 99th percentile of the data\n",
    "plt.figure(figsize=(10, 15))\n",
    "plt.scatter(df['longitude'], df['latitude'], s=.01)\n",
    "plt.xlabel('longitude')\n",
    "plt.ylabel('latitude')\n",
    "plt.xlim(df['longitude'].quantile(.01), df['longitude'].quantile(.99))\n",
    "plt.ylim(df['latitude'].quantile(.01), df['latitude'].quantile(.99))\n",
    "plt.gca().set_aspect(1, adjustable='box')\n"
   ]
  }
 ],
 "metadata": {
  "kernelspec": {
   "display_name": ".venv",
   "language": "python",
   "name": "python3"
  },
  "language_info": {
   "codemirror_mode": {
    "name": "ipython",
    "version": 3
   },
   "file_extension": ".py",
   "mimetype": "text/x-python",
   "name": "python",
   "nbconvert_exporter": "python",
   "pygments_lexer": "ipython3",
   "version": "3.11.6"
  }
 },
 "nbformat": 4,
 "nbformat_minor": 2
}
